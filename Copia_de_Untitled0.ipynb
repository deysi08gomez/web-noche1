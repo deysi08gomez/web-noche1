{
  "nbformat": 4,
  "nbformat_minor": 0,
  "metadata": {
    "colab": {
      "provenance": [],
      "authorship_tag": "ABX9TyMuGyU7uSy9dgNHSXJ5yuOn",
      "include_colab_link": true
    },
    "kernelspec": {
      "name": "python3",
      "display_name": "Python 3"
    },
    "language_info": {
      "name": "python"
    }
  },
  "cells": [
    {
      "cell_type": "markdown",
      "metadata": {
        "id": "view-in-github",
        "colab_type": "text"
      },
      "source": [
        "<a href=\"https://colab.research.google.com/github/deysi08gomez/web-noche1/blob/main/Copia_de_Untitled0.ipynb\" target=\"_parent\"><img src=\"https://colab.research.google.com/assets/colab-badge.svg\" alt=\"Open In Colab\"/></a>"
      ]
    },
    {
      "cell_type": "code",
      "execution_count": null,
      "metadata": {
        "id": "hxuT2HLfaDLt"
      },
      "outputs": [],
      "source": [
        "nombre=\"deysi\""
      ]
    },
    {
      "cell_type": "code",
      "source": [
        "print(\"la vida es un sueño\")\n",
        "print()\n",
        "print(\"y los sueños,son sueños que se vuelven reales\")"
      ],
      "metadata": {
        "colab": {
          "base_uri": "https://localhost:8080/"
        },
        "id": "I_YKezn3cnoE",
        "outputId": "4c933d9d-c13a-4555-f10f-b4d5b155e8b3"
      },
      "execution_count": null,
      "outputs": [
        {
          "output_type": "stream",
          "name": "stdout",
          "text": [
            "la vida es un sueño\n",
            "\n",
            "y los sueños,son sueños que se vuelven reales\n"
          ]
        }
      ]
    },
    {
      "cell_type": "code",
      "source": [
        "precio=7435.28\n",
        "print(precio)"
      ],
      "metadata": {
        "colab": {
          "base_uri": "https://localhost:8080/"
        },
        "id": "sHOuLWYLewdu",
        "outputId": "0380c67f-b01e-4d31-a30c-5fedde2d97b8"
      },
      "execution_count": null,
      "outputs": [
        {
          "output_type": "stream",
          "name": "stdout",
          "text": [
            "7435.28\n"
          ]
        }
      ]
    },
    {
      "cell_type": "code",
      "source": [
        "a=6\n",
        "b=7\n",
        "print(a,b)"
      ],
      "metadata": {
        "colab": {
          "base_uri": "https://localhost:8080/"
        },
        "id": "j65H16eAfg65",
        "outputId": "80e11e70-66e9-43e4-897c-ddfa37b3dbc9"
      },
      "execution_count": null,
      "outputs": [
        {
          "output_type": "stream",
          "name": "stdout",
          "text": [
            "6 7\n"
          ]
        }
      ]
    },
    {
      "cell_type": "code",
      "source": [
        "#Operaciones matematicas\n",
        "suma = a + b\n",
        "resta = a - b\n",
        "multiplicacion = a * b\n",
        "divicion = a / b\n",
        "print (suma)\n",
        "print (resta)\n",
        "print (multiplicacion)\n",
        "print (divicion)"
      ],
      "metadata": {
        "colab": {
          "base_uri": "https://localhost:8080/"
        },
        "id": "nO2Q1Q3SgRdC",
        "outputId": "79d805e0-48ba-4fb5-9e57-c8833d21e928"
      },
      "execution_count": null,
      "outputs": [
        {
          "output_type": "stream",
          "name": "stdout",
          "text": [
            "13\n",
            "-1\n",
            "42\n",
            "0.8571428571428571\n"
          ]
        }
      ]
    },
    {
      "cell_type": "code",
      "source": [
        "#Tipos de datos\n",
        "numeros = 123\n",
        "desimales = 3.8574\n",
        "cadenas =\"juan perez\"#String\n",
        "booleanos = True #False\n",
        "listas =[12365214,\"manuel andrade\", \"funza\", True]\n",
        "objetos ={\n",
        "    \"id\":1254778,\n",
        "    \"Nombre\":\"Manuel jose\",\n",
        "    \"Apellidos\":\"Andrea mendoza\"\n",
        "}\n",
        "tupla = (12365214, \"manuel andrade\", True)\n",
        "CONSTANTE = 3.1416"
      ],
      "metadata": {
        "id": "GxogrLNsiDv2"
      },
      "execution_count": null,
      "outputs": []
    },
    {
      "cell_type": "code",
      "source": [
        "#Condicionales\n",
        "edad=int(input(\"Ingresa tu edad:\"))\n",
        "if edad >= 18:\n",
        "  print (\"hoy nos vamos de rumba\")\n",
        "  print (\"y tambien puedes votar\")\n",
        "else:\n",
        "  print(\"no te vistas que no vas\")\n",
        "  print(\"te toco quedarte en casa\")"
      ],
      "metadata": {
        "colab": {
          "base_uri": "https://localhost:8080/"
        },
        "id": "TiWNroBslBMz",
        "outputId": "1d1e6bb2-d8db-4773-bc41-6c08281cca9b"
      },
      "execution_count": null,
      "outputs": [
        {
          "output_type": "stream",
          "name": "stdout",
          "text": [
            "Ingresa tu edad:17\n",
            "no te vistas que no vas\n",
            "te toco quedarte en casa\n"
          ]
        }
      ]
    },
    {
      "cell_type": "code",
      "source": [
        "#Condicionales\n",
        "mascota=int(input(\"ingresa tu mascota\"))\n",
        "if mascota == \"gato\":\n",
        "  print(\"si tienes perro lleva sueter azul\")\n",
        "  print(\"si tienes gato lleva sueter rojo\")\n",
        "else:\n",
        "    print(\"no tengo perro no llevare rojo\")\n",
        "    print(\"no tengo gato llevare azul\")\n"
      ],
      "metadata": {
        "colab": {
          "base_uri": "https://localhost:8080/",
          "height": 228
        },
        "id": "wre0zcGJnj93",
        "outputId": "c7b87eba-8c66-4e14-ca48-3e492aaf4551"
      },
      "execution_count": null,
      "outputs": [
        {
          "name": "stdout",
          "output_type": "stream",
          "text": [
            "ingresa tu mascotagato\n"
          ]
        },
        {
          "output_type": "error",
          "ename": "ValueError",
          "evalue": "invalid literal for int() with base 10: 'gato'",
          "traceback": [
            "\u001b[0;31m---------------------------------------------------------------------------\u001b[0m",
            "\u001b[0;31mValueError\u001b[0m                                Traceback (most recent call last)",
            "\u001b[0;32m/tmp/ipython-input-3296370826.py\u001b[0m in \u001b[0;36m<cell line: 0>\u001b[0;34m()\u001b[0m\n\u001b[1;32m      1\u001b[0m \u001b[0;31m#Condicionales\u001b[0m\u001b[0;34m\u001b[0m\u001b[0;34m\u001b[0m\u001b[0m\n\u001b[0;32m----> 2\u001b[0;31m \u001b[0mmascota\u001b[0m\u001b[0;34m=\u001b[0m\u001b[0mint\u001b[0m\u001b[0;34m(\u001b[0m\u001b[0minput\u001b[0m\u001b[0;34m(\u001b[0m\u001b[0;34m\"ingresa tu mascota\"\u001b[0m\u001b[0;34m)\u001b[0m\u001b[0;34m)\u001b[0m\u001b[0;34m\u001b[0m\u001b[0;34m\u001b[0m\u001b[0m\n\u001b[0m\u001b[1;32m      3\u001b[0m \u001b[0;32mif\u001b[0m \u001b[0mmascota\u001b[0m \u001b[0;34m==\u001b[0m \u001b[0;34m\"gato\"\u001b[0m\u001b[0;34m:\u001b[0m\u001b[0;34m\u001b[0m\u001b[0;34m\u001b[0m\u001b[0m\n\u001b[1;32m      4\u001b[0m   \u001b[0mprint\u001b[0m\u001b[0;34m(\u001b[0m\u001b[0;34m\"si tienes perro lleva sueter azul\"\u001b[0m\u001b[0;34m)\u001b[0m\u001b[0;34m\u001b[0m\u001b[0;34m\u001b[0m\u001b[0m\n\u001b[1;32m      5\u001b[0m   \u001b[0mprint\u001b[0m\u001b[0;34m(\u001b[0m\u001b[0;34m\"si tienes gato lleva sueter rojo\"\u001b[0m\u001b[0;34m)\u001b[0m\u001b[0;34m\u001b[0m\u001b[0;34m\u001b[0m\u001b[0m\n",
            "\u001b[0;31mValueError\u001b[0m: invalid literal for int() with base 10: 'gato'"
          ]
        }
      ]
    },
    {
      "cell_type": "code",
      "source": [
        "#Condicionales anidados\n",
        "try:\n",
        "  edad=int(input(\"ingresa tu edad\"))\n",
        "  if edad >0 and edad <=5:\n",
        "    print(\"es un bebe\")\n",
        "  elif edad>=6 and edad <=12:\n",
        "    print(\"eres un niño\")\n",
        "  elif edad>=13 and edad <=25:\n",
        "    print(\"eres un adolecente\")\n",
        "  elif edad>=25 and edad <=50:\n",
        "    print(\"eres un adulto\")\n",
        "  elif edad>=51 and edad <=60:\n",
        "    print(\"eres un adulto mayor\")\n",
        "  elif edad>=61 and edad <=80:\n",
        "    print(\"pertenece a la tercera edad\")\n",
        "  else:\n",
        "     print(\"Digitaste una edad invalida\")\n",
        "except ValueError:\n",
        "     print(\"algoritmo equivocado\")"
      ],
      "metadata": {
        "colab": {
          "base_uri": "https://localhost:8080/"
        },
        "id": "e7RC6cB9rgu8",
        "outputId": "c04b4f25-2a4f-4514-c615-e69c65eb3f5d"
      },
      "execution_count": null,
      "outputs": [
        {
          "output_type": "stream",
          "name": "stdout",
          "text": [
            "ingresa tu edad98\n",
            "Digitaste una edad invalida\n"
          ]
        }
      ]
    },
    {
      "cell_type": "code",
      "source": [
        "#Condicionales\n",
        "mascota=input(\"ingresa tu mascota\")\n",
        "if mascota == \"perro\":\n",
        "  print(\"si tienes un perro lleva un sueter azul\")\n",
        "elif mascota == \"gato\":\n",
        "  print(\"si tienes un gato lleva un sueter rojo\")\n",
        "else:\n",
        "    print(\"no tengo perro\")\n",
        "    print(\"no tengo gato\")"
      ],
      "metadata": {
        "colab": {
          "base_uri": "https://localhost:8080/"
        },
        "id": "8JIcd4DZyO24",
        "outputId": "1e348386-da9a-4256-e041-8980184836af"
      },
      "execution_count": null,
      "outputs": [
        {
          "output_type": "stream",
          "name": "stdout",
          "text": [
            "ingresa tu mascotaperro\n",
            "si tienes un perro lleva un sueter azul\n"
          ]
        }
      ]
    },
    {
      "cell_type": "code",
      "source": [
        "num = int(input(\"ingresa el valor de la tabla:\"))\n",
        "limite = int(input(\"ingresa el valor del limite:\"))\n",
        "for m in range(1,limite+1):\n",
        "  print(num, \"X\", m, \"=\",(num*m))\n"
      ],
      "metadata": {
        "colab": {
          "base_uri": "https://localhost:8080/"
        },
        "id": "6XpTjQzn2kUn",
        "outputId": "65654a62-35fb-4c1a-dd95-24b9e9c4bfaa"
      },
      "execution_count": null,
      "outputs": [
        {
          "output_type": "stream",
          "name": "stdout",
          "text": [
            "ingresa el valor de la tabla:9\n",
            "ingresa el valor del limite:20\n",
            "9 X 1 = 9\n",
            "9 X 2 = 18\n",
            "9 X 3 = 27\n",
            "9 X 4 = 36\n",
            "9 X 5 = 45\n",
            "9 X 6 = 54\n",
            "9 X 7 = 63\n",
            "9 X 8 = 72\n",
            "9 X 9 = 81\n",
            "9 X 10 = 90\n",
            "9 X 11 = 99\n",
            "9 X 12 = 108\n",
            "9 X 13 = 117\n",
            "9 X 14 = 126\n",
            "9 X 15 = 135\n",
            "9 X 16 = 144\n",
            "9 X 17 = 153\n",
            "9 X 18 = 162\n",
            "9 X 19 = 171\n",
            "9 X 20 = 180\n"
          ]
        }
      ]
    },
    {
      "cell_type": "code",
      "source": [
        "#interaccion de variables\n",
        "frutas = [\"Mango\",\"Papaya\",\"Banano\",\"Fresa\",\"Freijoa\",\"Kiwi\"]\n",
        "for f in frutas:\n",
        "  print(f)\n",
        "  print(\"------------------\")\n",
        "  #Recorer Rango\n",
        "for n in range(1,len(frutas),2):\n",
        "    print(frutas[n])\n"
      ],
      "metadata": {
        "colab": {
          "base_uri": "https://localhost:8080/"
        },
        "id": "QffEmHoC5Uob",
        "outputId": "fa963803-a458-41a6-e66a-302777e5b053"
      },
      "execution_count": null,
      "outputs": [
        {
          "output_type": "stream",
          "name": "stdout",
          "text": [
            "Mango\n",
            "------------------\n",
            "Papaya\n",
            "------------------\n",
            "Banano\n",
            "------------------\n",
            "Fresa\n",
            "------------------\n",
            "Freijoa\n",
            "------------------\n",
            "Kiwi\n",
            "------------------\n",
            "Papaya\n",
            "Fresa\n",
            "Kiwi\n"
          ]
        }
      ]
    },
    {
      "cell_type": "code",
      "source": [
        "#Funciones\n",
        "#Declarar la funcion sumar\n",
        "def sumar(a,b):\n",
        "  print(\"la suma es:\",(a+b))\n",
        "  #Declara la funcion restar\n",
        "def restar(a,b):\n",
        "  print(\"la resta es:\",(a-b))\n",
        "\n",
        "  #llamado a los valores de la funcion\n",
        "  sumar(10,40)\n",
        "  restar(10,40)\n"
      ],
      "metadata": {
        "id": "7nvJPV5fzZM8"
      },
      "execution_count": 1,
      "outputs": []
    },
    {
      "cell_type": "code",
      "source": [],
      "metadata": {
        "id": "UtfAPkHCcuZV"
      },
      "execution_count": null,
      "outputs": []
    }
  ]
}